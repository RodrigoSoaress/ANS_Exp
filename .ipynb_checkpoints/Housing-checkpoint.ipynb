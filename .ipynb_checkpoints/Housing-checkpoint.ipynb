{
 "cells": [
  {
   "cell_type": "code",
   "execution_count": 1,
   "metadata": {},
   "outputs": [
    {
     "name": "stdout",
     "output_type": "stream",
     "text": [
      "           latitude  housing_median_age  total_rooms  total_bedrooms  \\\n",
      "longitude                                                              \n",
      "-122.23       37.88                41.0        880.0           129.0   \n",
      "-122.22       37.86                21.0       7099.0          1106.0   \n",
      "-122.24       37.85                52.0       1467.0           190.0   \n",
      "-122.25       37.85                52.0       1274.0           235.0   \n",
      "-122.25       37.85                52.0       1627.0           280.0   \n",
      "\n",
      "           population  households  median_income  median_house_value  \\\n",
      "longitude                                                              \n",
      "-122.23         322.0       126.0         8.3252            452600.0   \n",
      "-122.22        2401.0      1138.0         8.3014            358500.0   \n",
      "-122.24         496.0       177.0         7.2574            352100.0   \n",
      "-122.25         558.0       219.0         5.6431            341300.0   \n",
      "-122.25         565.0       259.0         3.8462            342200.0   \n",
      "\n",
      "          ocean_proximity  \n",
      "longitude                  \n",
      "-122.23          NEAR BAY  \n",
      "-122.22          NEAR BAY  \n",
      "-122.24          NEAR BAY  \n",
      "-122.25          NEAR BAY  \n",
      "-122.25          NEAR BAY  \n"
     ]
    }
   ],
   "source": [
    "import pandas as pd\n",
    "url = 'https://raw.githubusercontent.com/ageron/handson-ml/master/datasets/housing/housing.csv'\n",
    "df = pd.read_csv(url,index_col=0)\n",
    "#df = pd.read_csv(url)\n",
    "\n",
    "print(df.head(5))"
   ]
  }
 ],
 "metadata": {
  "kernelspec": {
   "display_name": "Python 3",
   "language": "python",
   "name": "python3"
  },
  "language_info": {
   "codemirror_mode": {
    "name": "ipython",
    "version": 3
   },
   "file_extension": ".py",
   "mimetype": "text/x-python",
   "name": "python",
   "nbconvert_exporter": "python",
   "pygments_lexer": "ipython3",
   "version": "3.8.8"
  }
 },
 "nbformat": 4,
 "nbformat_minor": 1
}
